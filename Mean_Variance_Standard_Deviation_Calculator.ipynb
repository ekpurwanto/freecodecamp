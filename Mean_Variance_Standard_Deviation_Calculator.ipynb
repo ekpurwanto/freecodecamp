{
  "nbformat": 4,
  "nbformat_minor": 0,
  "metadata": {
    "colab": {
      "provenance": [],
      "authorship_tag": "ABX9TyOpeWKiOQbH0GoKzFtsLapK",
      "include_colab_link": true
    },
    "kernelspec": {
      "name": "python3",
      "display_name": "Python 3"
    },
    "language_info": {
      "name": "python"
    }
  },
  "cells": [
    {
      "cell_type": "markdown",
      "metadata": {
        "id": "view-in-github",
        "colab_type": "text"
      },
      "source": [
        "<a href=\"https://colab.research.google.com/github/ekpurwanto/freecodecamp/blob/main/Mean_Variance_Standard_Deviation_Calculator.ipynb\" target=\"_parent\"><img src=\"https://colab.research.google.com/assets/colab-badge.svg\" alt=\"Open In Colab\"/></a>"
      ]
    },
    {
      "cell_type": "code",
      "execution_count": 6,
      "metadata": {
        "id": "yAhHcN3GtAIT"
      },
      "outputs": [],
      "source": [
        "import numpy as np\n",
        "\n",
        "def calculate(list_of_numbers):\n",
        "  \"\"\"Calculates the mean, variance, standard deviation, max, min, and sum of the rows, columns, and elements in a 3 x 3 matrix.\n",
        "\n",
        "  Args:\n",
        "    list_of_numbers: A list containing 9 digits.\n",
        "\n",
        "  Returns:\n",
        "    A dictionary containing the mean, variance, standard deviation, max, min, and sum along both axes and for the flattened matrix.\n",
        "  \"\"\"\n",
        "\n",
        "  # Check if the list contains less than 9 elements.\n",
        "  if len(list_of_numbers) < 9:\n",
        "    raise ValueError(\"List must contain nine numbers.\")\n",
        "\n",
        "  # Convert the list to a 3 x 3 Numpy array.\n",
        "  matrix = np.array(list_of_numbers).reshape(3, 3)\n",
        "\n",
        "  # Calculate the mean, variance, standard deviation, max, min, and sum along both axes and for the flattened matrix.\n",
        "  mean_axis1 = np.mean(matrix, axis=0).tolist()\n",
        "  mean_axis2 = np.mean(matrix, axis=1).tolist()\n",
        "  mean_flattened = np.mean(matrix).tolist()\n",
        "\n",
        "  variance_axis1 = np.var(matrix, axis=0).tolist()\n",
        "  variance_axis2 = np.var(matrix, axis=1).tolist()\n",
        "  variance_flattened = np.var(matrix).tolist()\n",
        "\n",
        "  standard_deviation_axis1 = np.std(matrix, axis=0).tolist()\n",
        "  standard_deviation_axis2 = np.std(matrix, axis=1).tolist()\n",
        "  standard_deviation_flattened = np.std(matrix).tolist()\n",
        "\n",
        "  max_axis1 = np.max(matrix, axis=0).tolist()\n",
        "  max_axis2 = np.max(matrix, axis=1).tolist()\n",
        "  max_flattened = np.max(matrix).tolist()\n",
        "\n",
        "  min_axis1 = np.min(matrix, axis=0).tolist()\n",
        "  min_axis2 = np.min(matrix, axis=1).tolist()\n",
        "  min_flattened = np.min(matrix).tolist()\n",
        "\n",
        "  sum_axis1 = np.sum(matrix, axis=0).tolist()\n",
        "  sum_axis2 = np.sum(matrix, axis=1).tolist()\n",
        "  sum_flattened = np.sum(matrix).tolist()\n",
        "\n",
        "  # Return the results in a dictionary.\n",
        "  results = {\n",
        "    \"mean\": [mean_axis1, mean_axis2, mean_flattened],\n",
        "    \"variance\": [variance_axis1, variance_axis2, variance_flattened],\n",
        "    \"standard deviation\": [standard_deviation_axis1, standard_deviation_axis2, standard_deviation_flattened],\n",
        "    \"max\": [max_axis1, max_axis2, max_flattened],\n",
        "    \"min\": [min_axis1, min_axis2, min_flattened],\n",
        "    \"sum\": [sum_axis1, sum_axis2, sum_flattened]\n",
        "  }\n",
        "\n",
        "  return results\n"
      ]
    },
    {
      "cell_type": "code",
      "source": [
        "list_of_numbers = [0, 1, 2, 3, 4, 5, 6, 7, 8]\n",
        "\n",
        "results = calculate(list_of_numbers)\n",
        "\n",
        "print(results)\n"
      ],
      "metadata": {
        "colab": {
          "base_uri": "https://localhost:8080/"
        },
        "id": "ipLy7473tm1u",
        "outputId": "c6865913-554f-4eef-e32e-670d56b0a6c7"
      },
      "execution_count": 7,
      "outputs": [
        {
          "output_type": "stream",
          "name": "stdout",
          "text": [
            "{'mean': [[3.0, 4.0, 5.0], [1.0, 4.0, 7.0], 4.0], 'variance': [[6.0, 6.0, 6.0], [0.6666666666666666, 0.6666666666666666, 0.6666666666666666], 6.666666666666667], 'standard deviation': [[2.449489742783178, 2.449489742783178, 2.449489742783178], [0.816496580927726, 0.816496580927726, 0.816496580927726], 2.581988897471611], 'max': [[6, 7, 8], [2, 5, 8], 8], 'min': [[0, 1, 2], [0, 3, 6], 0], 'sum': [[9, 12, 15], [3, 12, 21], 36]}\n"
          ]
        }
      ]
    }
  ]
}